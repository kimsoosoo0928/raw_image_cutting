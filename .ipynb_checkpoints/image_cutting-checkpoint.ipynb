{
 "cells": [
  {
   "cell_type": "code",
   "execution_count": 2,
   "id": "ddae04cb",
   "metadata": {},
   "outputs": [],
   "source": [
    "import numpy as np"
   ]
  },
  {
   "cell_type": "code",
   "execution_count": 5,
   "id": "a8b3f9f3",
   "metadata": {},
   "outputs": [],
   "source": [
    "fd = open('./data/123_refl.raw','rb')\n",
    "rows = \n",
    "cols = 640\n",
    "f = np.fromfile(fd,dtype=np.uint8,count=rows*cols)\n",
    "im = f.reshape((rows,cols))\n",
    "fd.close()\n",
    "\n",
    "import cv2\n",
    "cv2.imshow('',im)\n",
    "cv2.waitKey()\n",
    "cv2.destroyAllWindows()"
   ]
  },
  {
   "cell_type": "code",
   "execution_count": null,
   "id": "48038263",
   "metadata": {},
   "outputs": [],
   "source": []
  }
 ],
 "metadata": {
  "kernelspec": {
   "display_name": "Python 3 (ipykernel)",
   "language": "python",
   "name": "python3"
  },
  "language_info": {
   "codemirror_mode": {
    "name": "ipython",
    "version": 3
   },
   "file_extension": ".py",
   "mimetype": "text/x-python",
   "name": "python",
   "nbconvert_exporter": "python",
   "pygments_lexer": "ipython3",
   "version": "3.9.7"
  }
 },
 "nbformat": 4,
 "nbformat_minor": 5
}
